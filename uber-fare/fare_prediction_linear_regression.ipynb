{
 "cells": [
  {
   "cell_type": "code",
   "execution_count": null,
   "id": "3b7ef8e3-661e-46ba-b497-d2ed09badced",
   "metadata": {},
   "outputs": [],
   "source": [
    "import pandas as pd\n",
    "import numpy as np\n",
    "import matplotlib.pyplot as plt"
   ]
  },
  {
   "cell_type": "markdown",
   "id": "0e1e513e-7906-4486-9d90-9ef296354aef",
   "metadata": {},
   "source": [
    "### Importing Data"
   ]
  },
  {
   "cell_type": "code",
   "execution_count": null,
   "id": "4afa7f09-a31f-4962-ad49-3ca61f9d9568",
   "metadata": {},
   "outputs": [],
   "source": [
    "df = pd.read_csv('uber.csv', index_col=0)\n",
    "df.head()"
   ]
  },
  {
   "cell_type": "markdown",
   "id": "3be5276e-08c4-455a-9440-5f0f61d407a2",
   "metadata": {},
   "source": [
    "Dropping the Unnamed column"
   ]
  },
  {
   "cell_type": "code",
   "execution_count": null,
   "id": "b8b9ba98-c498-4a75-99f5-a135cfe523f3",
   "metadata": {},
   "outputs": [],
   "source": [
    "# Drop Null Values\n",
    "df.isnull().sum()\n",
    "df.dropna(inplace=True)"
   ]
  },
  {
   "cell_type": "code",
   "execution_count": null,
   "id": "22817772-2649-49ad-97e8-269a558a4dba",
   "metadata": {},
   "outputs": [],
   "source": [
    "df.duplicated().sum()"
   ]
  },
  {
   "cell_type": "markdown",
   "id": "5bcf24a9-3214-4d7e-955b-1de56902958f",
   "metadata": {},
   "source": [
    "### Parsing Date and Time"
   ]
  },
  {
   "cell_type": "code",
   "execution_count": null,
   "id": "67c524c9-1a26-4848-a3a3-0419b913fc9a",
   "metadata": {},
   "outputs": [],
   "source": [
    "df['pickup_datetime'] = pd.to_datetime(df['pickup_datetime'])"
   ]
  },
  {
   "cell_type": "code",
   "execution_count": null,
   "id": "0a34ecc9-1d24-4c41-b4f5-2f963264fdc8",
   "metadata": {},
   "outputs": [],
   "source": [
    "df['pickup_datetime'] = pd.to_datetime(df['pickup_datetime'])\n",
    "\n",
    "# Extract features: hour, day_of_week, month\n",
    "df['hour'] = df['pickup_datetime'].dt.hour\n",
    "df['day_of_week'] = df['pickup_datetime'].dt.dayofweek\n",
    "df['month'] = df['pickup_datetime'].dt.month"
   ]
  },
  {
   "cell_type": "markdown",
   "id": "67320439-24dd-4093-82af-ef38d5df4fdc",
   "metadata": {},
   "source": [
    "### Checking for invalid fare prices"
   ]
  },
  {
   "cell_type": "code",
   "execution_count": null,
   "id": "0afd8d97-5c94-4833-811a-5ec2d1e7d9d8",
   "metadata": {},
   "outputs": [],
   "source": [
    "plt.figure(figsize=(5,4))\n",
    "plt.scatter(df.index, df['fare_amount'], alpha=0.5)\n",
    "plt.xlabel('Index')\n",
    "plt.ylabel('Fare Amount')\n",
    "plt.xticks(rotation = 25)\n",
    "plt.title('Detecting Outliers in Fare Amount')\n",
    "plt.show()"
   ]
  },
  {
   "cell_type": "code",
   "execution_count": null,
   "id": "c29afc94-d6b3-4f86-881d-a6ec70ff7d1f",
   "metadata": {},
   "outputs": [],
   "source": [
    "df = df[df['fare_amount']>0]\n",
    "df = df.reset_index(drop=True)\n",
    "df.head()"
   ]
  },
  {
   "cell_type": "markdown",
   "id": "5a570dc3-53ab-4af8-b5e5-15be4fbbd264",
   "metadata": {},
   "source": [
    "### Checking for invalid latitude and longitude"
   ]
  },
  {
   "cell_type": "code",
   "execution_count": null,
   "id": "0938d7f1-97f1-442f-a50e-a305c7ea4b12",
   "metadata": {},
   "outputs": [],
   "source": [
    "invalid_pickup_longitude = (-180 > df['pickup_longitude']).sum() + (180 < df['pickup_longitude']).sum()\n",
    "invalid_pickup_latitude = (-90 > df['pickup_latitude']).sum() + (90 < df['pickup_latitude']).sum()\n",
    "invalid_dropoff_longitude = (-180 > df['dropoff_longitude']).sum() + (180 < df['dropoff_longitude']).sum()\n",
    "invalid_dropoff_latitude = (-90 > df['dropoff_latitude']).sum() + (90 < df['dropoff_latitude']).sum()\n",
    "print(f\"Invalid Pickup Longitude: {invalid_pickup_longitude}\")\n",
    "print(f\"Invalid Pickup Latitude: {invalid_pickup_latitude}\")\n",
    "print(f\"Invalid Dropoff Longitude: {invalid_dropoff_longitude}\")\n",
    "print(f\"Invalid Dropoff Latitude: {invalid_dropoff_latitude}\")"
   ]
  },
  {
   "cell_type": "code",
   "execution_count": null,
   "id": "6e4432ce-7e3d-4ca5-8c76-2ddb6540bb1d",
   "metadata": {},
   "outputs": [],
   "source": [
    "df = df[df['pickup_longitude'] < 180]\n",
    "df = df[df['pickup_longitude'] > -180]\n",
    "df = df[df['pickup_latitude'] < 90]\n",
    "df = df[df['pickup_latitude'] > -90]\n",
    "df = df[df['dropoff_longitude'] < 180]\n",
    "df = df[df['dropoff_longitude'] > -180]\n",
    "df = df[df['dropoff_latitude'] < 90]\n",
    "df = df[df['dropoff_latitude'] > -90]"
   ]
  },
  {
   "cell_type": "markdown",
   "id": "68efbdd0-0d94-4887-bc3f-a82f01a0d527",
   "metadata": {},
   "source": [
    "### Calculating Distance using Haversine Formulae"
   ]
  },
  {
   "cell_type": "code",
   "execution_count": null,
   "id": "ebbefc2b-4327-4c9c-8ef7-bc53782f8deb",
   "metadata": {},
   "outputs": [],
   "source": [
    "# Using Haversine Formulae\n",
    "def coordinate_2_distance(lon1, lat1, lon2, lat2):\n",
    "    lon1, lat1, lon2, lat2 = map(np.radians, [lon1, lat1, lon2, lat2])\n",
    "    dlon = lon2 - lon1\n",
    "    dlat = lat2 - lat1\n",
    "    a = np.sin(dlat/2)**2 + np.cos(lat1) * np.cos(lat2) * np.sin(dlon/2)**2\n",
    "    c = 2 * np.arcsin(np.sqrt(a))\n",
    "    km = 6371 * c\n",
    "    return km"
   ]
  },
  {
   "cell_type": "code",
   "execution_count": null,
   "id": "d40a4451-1347-4ceb-9d6d-fb675bd220f5",
   "metadata": {},
   "outputs": [],
   "source": [
    "df['distance_in_km'] = coordinate_2_distance(df['pickup_longitude'], df['pickup_latitude'], df['dropoff_longitude'], df['dropoff_latitude'])"
   ]
  },
  {
   "cell_type": "code",
   "execution_count": null,
   "id": "e926538b-b4ca-4884-9149-f8588c52db57",
   "metadata": {},
   "outputs": [],
   "source": [
    "df['is_weekend'] = df['day_of_week'].apply(lambda x: 1 if x >= 5 else 0)"
   ]
  },
  {
   "cell_type": "markdown",
   "id": "bcd257d3-d532-4ffc-bde5-872bd535c439",
   "metadata": {},
   "source": [
    "### Creating Train and Test Split"
   ]
  },
  {
   "cell_type": "code",
   "execution_count": null,
   "id": "42cc5520-e70f-4548-b157-927d03f01342",
   "metadata": {},
   "outputs": [],
   "source": [
    "from sklearn.model_selection import train_test_split\n",
    "# Features and target variable\n",
    "features = ['distance_in_km', 'hour', 'day_of_week', 'month', 'is_weekend']\n",
    "X = df[features]\n",
    "y = df['fare_amount']\n",
    "\n",
    "# Train-Test split (80% train, 20% test)\n",
    "X_train, X_test, y_train, y_test = train_test_split(X, y, test_size=0.2, random_state=42)"
   ]
  },
  {
   "cell_type": "markdown",
   "id": "04ecb418-e060-40dd-a3ac-ffb2fcb5cbf9",
   "metadata": {},
   "source": [
    "### Training and Testing Model"
   ]
  },
  {
   "cell_type": "code",
   "execution_count": null,
   "id": "66307b48-dfe7-4e34-b6a2-e0c2f64beb03",
   "metadata": {},
   "outputs": [],
   "source": [
    "from sklearn.ensemble import RandomForestRegressor"
   ]
  },
  {
   "cell_type": "code",
   "execution_count": null,
   "id": "6a85a215-38dc-41d9-81c5-5c28292c6780",
   "metadata": {},
   "outputs": [],
   "source": [
    "model = RandomForestRegressor(n_estimators=200, random_state=None)\n",
    "model.fit(X_train, y_train)\n",
    "\n",
    "y_pred_rf = model.predict(X_test)"
   ]
  },
  {
   "cell_type": "code",
   "execution_count": null,
   "id": "21d1e1fb-9ead-4429-b0af-1c111447d58d",
   "metadata": {},
   "outputs": [],
   "source": [
    "from sklearn.metrics import mean_squared_error, r2_score\n",
    "# Calculate RMSE\n",
    "rmse_rf = np.sqrt(mean_squared_error(y_test, y_pred_rf))\n",
    "\n",
    "# Calculate R-squared (R2)\n",
    "r2_rf = r2_score(y_test, y_pred_rf)\n",
    "\n",
    "# Print evaluation metrics\n",
    "print(f\"Random Forest RMSE: {rmse_rf}\")\n",
    "print(f\"Random Forest R2: {r2_rf}\")"
   ]
  }
 ],
 "metadata": {
  "kernelspec": {
   "display_name": "Python 3 (ipykernel)",
   "language": "python",
   "name": "python3"
  },
  "language_info": {
   "codemirror_mode": {
    "name": "ipython",
    "version": 3
   },
   "file_extension": ".py",
   "mimetype": "text/x-python",
   "name": "python",
   "nbconvert_exporter": "python",
   "pygments_lexer": "ipython3",
   "version": "3.12.7"
  }
 },
 "nbformat": 4,
 "nbformat_minor": 5
}
